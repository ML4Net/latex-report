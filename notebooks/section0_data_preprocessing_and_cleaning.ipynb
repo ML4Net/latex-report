{
 "cells": [
  {
   "cell_type": "markdown",
   "id": "9d9db31e-e322-4bcc-abdd-4089ddffbdc8",
   "metadata": {},
   "source": [
    "<center><b><font size=6>Data Decoding and Sampling<b><center>"
   ]
  },
  {
   "cell_type": "markdown",
   "id": "15d58a64-01d8-4d3f-9809-c39e6dbabd83",
   "metadata": {},
   "source": [
    "This notebook covers the initial steps for preprocessing and cleaning the dataset before performing any analysis or modeling."
   ]
  },
  {
   "cell_type": "markdown",
   "id": "fc983045-06bb-4d69-9095-60d603b98949",
   "metadata": {},
   "source": [
    "0. **Install Dependencies**\n",
    "1. **Helper Functions**\n",
    "2. **Loadig and processing data**"
   ]
  },
  {
   "cell_type": "markdown",
   "id": "09d222c1-316e-4bd9-a7df-61ad7b68ed82",
   "metadata": {},
   "source": [
    "<center><b><font size=5>Install Dependencies<b><center>"
   ]
  },
  {
   "cell_type": "code",
   "execution_count": 6,
   "id": "dea39f55-9289-4fde-9a5c-d1811447454c",
   "metadata": {},
   "outputs": [
    {
     "name": "stdout",
     "output_type": "stream",
     "text": [
      "\u001b[34mInstalling common packages: pandas, pyarrow\u001b[0m\n",
      "Requirement already satisfied: pandas in /opt/conda/lib/python3.7/site-packages (1.3.5)\n",
      "Requirement already satisfied: python-dateutil>=2.7.3 in /opt/conda/lib/python3.7/site-packages (from pandas) (2.8.2)\n",
      "Requirement already satisfied: pytz>=2017.3 in /opt/conda/lib/python3.7/site-packages (from pandas) (2022.4)\n",
      "Requirement already satisfied: numpy>=1.17.3 in /opt/conda/lib/python3.7/site-packages (from pandas) (1.21.6)\n",
      "Requirement already satisfied: six>=1.5 in /opt/conda/lib/python3.7/site-packages (from python-dateutil>=2.7.3->pandas) (1.16.0)\n",
      "\u001b[0m\u001b[32mSuccessfully installed: pandas\u001b[0m\n",
      "Requirement already satisfied: pyarrow in /opt/conda/lib/python3.7/site-packages (12.0.1)\n",
      "Requirement already satisfied: numpy>=1.16.6 in /opt/conda/lib/python3.7/site-packages (from pyarrow) (1.21.6)\n",
      "\u001b[0m\u001b[32mSuccessfully installed: pyarrow\u001b[0m\n",
      "\u001b[0m\u001b[33mNo dependencies found for section 'Section 0'.\u001b[0m\n",
      "\u001b[0m\u001b[0m"
     ]
    }
   ],
   "source": [
    "!python ../scripts/install_dependencies.py section0"
   ]
  },
  {
   "cell_type": "code",
   "execution_count": 7,
   "id": "48a006bb-3655-4ff3-bcf5-ea87043b1ef5",
   "metadata": {},
   "outputs": [],
   "source": [
    "import pandas as pd\n",
    "import base64\n",
    "import re"
   ]
  },
  {
   "cell_type": "markdown",
   "id": "397cf2c9-bd89-4c62-a698-76835ea1c249",
   "metadata": {},
   "source": [
    "<center><b><font size=5>Helper Functions<b><center>"
   ]
  },
  {
   "cell_type": "markdown",
   "id": "36413807",
   "metadata": {},
   "source": [
    "**Steps:**\n",
    "\n",
    "- Decodes a Base64-encoded string into plaintext.\n",
    "- Splits a string into tokens based on a predefined vocabulary.\n",
    "- Processes and decodes Base64 commands from an SSH session log."
   ]
  },
  {
   "cell_type": "code",
   "execution_count": 8,
   "id": "972fbf4c-e31b-43ee-8072-2e66b95e40e6",
   "metadata": {},
   "outputs": [],
   "source": [
    "# Function to decode a Base64-encoded string into plaintext\n",
    "def decode_base64(word):\n",
    "    try:\n",
    "        # Attempt to decode the Base64 string and return it\n",
    "        return base64.b64decode(word).decode()\n",
    "    except:\n",
    "        # Return None if decoding fails (e.g., invalid Base64 input)\n",
    "        pass"
   ]
  },
  {
   "cell_type": "code",
   "execution_count": 9,
   "id": "bc624858-6c02-4b58-aade-966aaf07e671",
   "metadata": {},
   "outputs": [],
   "source": [
    "# Load a predefined vocabulary from \"features.txt\", one word/phrase per line\n",
    "with open(\"../data/features.txt\", \"r\") as f:\n",
    "    vocabulary = f.read().splitlines()"
   ]
  },
  {
   "cell_type": "code",
   "execution_count": 10,
   "id": "9d4168c8-3783-45ad-9fc3-8228205d8d6f",
   "metadata": {},
   "outputs": [],
   "source": [
    "# Function to split a given string into tokens based on the vocabulary\n",
    "def split_by_vocabulary(string):\n",
    "    # Create a regex pattern to match any word/phrase in the vocabulary\n",
    "    pattern = '|'.join(map(re.escape, vocabulary))\n",
    "    # Find all matches of the vocabulary in the string\n",
    "    matches = re.findall(pattern, string)\n",
    "    return matches"
   ]
  },
  {
   "cell_type": "code",
   "execution_count": 11,
   "id": "0a95b27e",
   "metadata": {},
   "outputs": [],
   "source": [
    "# Function to process and decode Base64 commands from an SSH session log\n",
    "def decode_session(full_session):\n",
    "    new_full_session = []  # List to store processed session chunks\n",
    "    \n",
    "    # Split the session log into chunks using the semicolon (';') delimiter\n",
    "    for session_chunk in full_session.split(\";\"):\n",
    "        # Identify chunks that contain Base64 decoding commands\n",
    "        if \"base64 --decode\" in session_chunk and \"echo\" in session_chunk:\n",
    "            parts = session_chunk.split()  # Split the chunk into individual parts\n",
    "            base64_encoded = None  # Placeholder for the Base64-encoded string\n",
    "        \n",
    "            # Locate the Base64-encoded string following the 'echo' command\n",
    "            for i in range(len(parts)):\n",
    "                if parts[i] == \"echo\":\n",
    "                    base64_encoded = parts[i + 1].strip(\"\\\"\")  # Extract the string and strip quotes\n",
    "                    break\n",
    "            \n",
    "            # If a Base64 string was found, attempt to decode it\n",
    "            if base64_encoded:\n",
    "                decoded = decode_base64(base64_encoded)\n",
    "                if decoded:\n",
    "                    # Split the decoded output into lines\n",
    "                    words_decoded = decoded.split(\"\\n\")\n",
    "                    # Remove the shebang (e.g., \"#!/bin/bash\") if present in the first line\n",
    "                    if words_decoded[0].strip() == \"#!/bin/bash\":\n",
    "                        words_decoded[0] = \"\"\n",
    "                    # Add the decoded and cleaned output to the session list\n",
    "                    new_full_session.append(\"; \".join(list(filter(None, words_decoded))).strip())\n",
    "                    # Increment the global counter for successfully decoded chunks\n",
    "                    global base64_decoded_counter\n",
    "                    base64_decoded_counter += 1\n",
    "                else:\n",
    "                    # If decoding fails, keep the original chunk\n",
    "                    new_full_session.append(session_chunk.strip())\n",
    "            else:\n",
    "                # If no Base64 string is found, keep the original chunk\n",
    "                new_full_session.append(session_chunk.strip())\n",
    "        else:\n",
    "            # If the chunk does not contain Base64 decoding, keep it unchanged\n",
    "            new_full_session.append(session_chunk.strip())\n",
    "    \n",
    "    # Rejoin the processed session chunks with semicolons and return the result\n",
    "    return \"; \".join(new_full_session)\n"
   ]
  },
  {
   "cell_type": "markdown",
   "id": "0bd848c9",
   "metadata": {},
   "source": [
    "<center><b><font size=5>Loading and processing data<b><center>"
   ]
  },
  {
   "cell_type": "markdown",
   "id": "ca521fc4",
   "metadata": {},
   "source": [
    "**Steps:**\n",
    "\n",
    "- Load the raw dataset.\n",
    "- Convert timestamps to datetime format.\n",
    "- Decode Base64-encoded SSH sessions.\n",
    "- Tokenize the decoded sessions based on a predefined vocabulary.\n",
    "- Save the processed dataset for further use."
   ]
  },
  {
   "cell_type": "code",
   "execution_count": 12,
   "id": "03b94563-0f56-4d01-9026-3989ddb8af03",
   "metadata": {},
   "outputs": [],
   "source": [
    "# Load the raw dataset from a Parquet file\n",
    "df_original = pd.read_parquet('../data/raw/ssh_attacks.parquet')\n",
    "df_decoded = df_original.copy()  # Create a copy to preserve the original data"
   ]
  },
  {
   "cell_type": "code",
   "execution_count": 13,
   "id": "b518760e-79e6-429f-9b80-8df254e1c78d",
   "metadata": {},
   "outputs": [],
   "source": [
    "# Convert the 'first_timestamp' column to a datetime format\n",
    "df_decoded['first_timestamp'] = pd.to_datetime(df_decoded['first_timestamp'])\n",
    "\n",
    "# Initialize a global counter to track the number of successfully decoded Base64 strings\n",
    "global base64_decoded_counter\n",
    "base64_decoded_counter = 0\n",
    "\n",
    "# Apply the session decoding function to the 'full_session' column\n",
    "df_decoded[\"full_session\"] = df_decoded[\"full_session\"].apply(lambda session: decode_session(session))\n",
    "\n",
    "# Create another copy of the decoded dataset for further processing\n",
    "df_decoded_splitted = df_decoded.copy()\n",
    "\n",
    "# Split the decoded 'full_session' column into vocabulary-based tokens\n",
    "df_decoded_splitted[\"full_session\"] = df_decoded_splitted[\"full_session\"].apply(lambda session: split_by_vocabulary(session))\n",
    "\n",
    "# Save the tokenized dataset to the specified processed folder\n",
    "df_decoded_splitted.to_parquet(\"../data/processed/ssh_attacks_decoded.parquet\")"
   ]
  },
  {
   "cell_type": "code",
   "execution_count": 14,
   "id": "64464c78-529f-4724-ad2c-4ca1b0b65285",
   "metadata": {},
   "outputs": [
    {
     "data": {
      "text/html": [
       "<div>\n",
       "<style scoped>\n",
       "    .dataframe tbody tr th:only-of-type {\n",
       "        vertical-align: middle;\n",
       "    }\n",
       "\n",
       "    .dataframe tbody tr th {\n",
       "        vertical-align: top;\n",
       "    }\n",
       "\n",
       "    .dataframe thead th {\n",
       "        text-align: right;\n",
       "    }\n",
       "</style>\n",
       "<table border=\"1\" class=\"dataframe\">\n",
       "  <thead>\n",
       "    <tr style=\"text-align: right;\">\n",
       "      <th></th>\n",
       "      <th>session_id</th>\n",
       "      <th>full_session</th>\n",
       "      <th>first_timestamp</th>\n",
       "      <th>Set_Fingerprint</th>\n",
       "    </tr>\n",
       "  </thead>\n",
       "  <tbody>\n",
       "    <tr>\n",
       "      <th>0</th>\n",
       "      <td>0</td>\n",
       "      <td>[enable, system, sh, sh, cat, proc, mounts, bi...</td>\n",
       "      <td>2019-06-04 09:45:11.151186+00:00</td>\n",
       "      <td>[Defense Evasion, Discovery]</td>\n",
       "    </tr>\n",
       "    <tr>\n",
       "      <th>1</th>\n",
       "      <td>1</td>\n",
       "      <td>[enable, system, sh, sh, cat, proc, mounts, bi...</td>\n",
       "      <td>2019-06-04 09:45:50.396610+00:00</td>\n",
       "      <td>[Defense Evasion, Discovery]</td>\n",
       "    </tr>\n",
       "    <tr>\n",
       "      <th>2</th>\n",
       "      <td>2</td>\n",
       "      <td>[enable, system, sh, sh, cat, proc, mounts, bi...</td>\n",
       "      <td>2019-06-04 09:54:41.863315+00:00</td>\n",
       "      <td>[Defense Evasion, Discovery]</td>\n",
       "    </tr>\n",
       "    <tr>\n",
       "      <th>3</th>\n",
       "      <td>3</td>\n",
       "      <td>[enable, system, sh, sh, cat, proc, mounts, bi...</td>\n",
       "      <td>2019-06-04 10:22:14.623875+00:00</td>\n",
       "      <td>[Defense Evasion, Discovery]</td>\n",
       "    </tr>\n",
       "    <tr>\n",
       "      <th>4</th>\n",
       "      <td>4</td>\n",
       "      <td>[enable, system, sh, sh, cat, proc, mounts, bi...</td>\n",
       "      <td>2019-06-04 10:37:19.725874+00:00</td>\n",
       "      <td>[Defense Evasion, Discovery]</td>\n",
       "    </tr>\n",
       "    <tr>\n",
       "      <th>...</th>\n",
       "      <td>...</td>\n",
       "      <td>...</td>\n",
       "      <td>...</td>\n",
       "      <td>...</td>\n",
       "    </tr>\n",
       "    <tr>\n",
       "      <th>233030</th>\n",
       "      <td>233042</td>\n",
       "      <td>[cat, proc, cp, grep, name, echo, passwd, bash...</td>\n",
       "      <td>2020-02-29 23:47:28.217237+00:00</td>\n",
       "      <td>[Discovery, Persistence]</td>\n",
       "    </tr>\n",
       "    <tr>\n",
       "      <th>233031</th>\n",
       "      <td>233043</td>\n",
       "      <td>[cat, proc, cp, grep, name, echo, passwd, bash...</td>\n",
       "      <td>2020-02-29 23:49:01.009046+00:00</td>\n",
       "      <td>[Discovery, Persistence]</td>\n",
       "    </tr>\n",
       "    <tr>\n",
       "      <th>233032</th>\n",
       "      <td>233044</td>\n",
       "      <td>[cat, proc, cp, grep, name, echo, ss, passwd, ...</td>\n",
       "      <td>2020-02-29 23:56:18.827281+00:00</td>\n",
       "      <td>[Discovery, Persistence]</td>\n",
       "    </tr>\n",
       "    <tr>\n",
       "      <th>233033</th>\n",
       "      <td>233045</td>\n",
       "      <td>[cat, proc, cp, grep, name, echo, passwd, bash...</td>\n",
       "      <td>2020-02-29 23:56:56.263104+00:00</td>\n",
       "      <td>[Discovery, Persistence]</td>\n",
       "    </tr>\n",
       "    <tr>\n",
       "      <th>233034</th>\n",
       "      <td>233046</td>\n",
       "      <td>[cat, proc, cp, grep, name, echo, passwd, bash...</td>\n",
       "      <td>2020-02-29 23:59:22.199490+00:00</td>\n",
       "      <td>[Discovery, Persistence]</td>\n",
       "    </tr>\n",
       "  </tbody>\n",
       "</table>\n",
       "<p>233035 rows × 4 columns</p>\n",
       "</div>"
      ],
      "text/plain": [
       "        session_id                                       full_session  \\\n",
       "0                0  [enable, system, sh, sh, cat, proc, mounts, bi...   \n",
       "1                1  [enable, system, sh, sh, cat, proc, mounts, bi...   \n",
       "2                2  [enable, system, sh, sh, cat, proc, mounts, bi...   \n",
       "3                3  [enable, system, sh, sh, cat, proc, mounts, bi...   \n",
       "4                4  [enable, system, sh, sh, cat, proc, mounts, bi...   \n",
       "...            ...                                                ...   \n",
       "233030      233042  [cat, proc, cp, grep, name, echo, passwd, bash...   \n",
       "233031      233043  [cat, proc, cp, grep, name, echo, passwd, bash...   \n",
       "233032      233044  [cat, proc, cp, grep, name, echo, ss, passwd, ...   \n",
       "233033      233045  [cat, proc, cp, grep, name, echo, passwd, bash...   \n",
       "233034      233046  [cat, proc, cp, grep, name, echo, passwd, bash...   \n",
       "\n",
       "                        first_timestamp               Set_Fingerprint  \n",
       "0      2019-06-04 09:45:11.151186+00:00  [Defense Evasion, Discovery]  \n",
       "1      2019-06-04 09:45:50.396610+00:00  [Defense Evasion, Discovery]  \n",
       "2      2019-06-04 09:54:41.863315+00:00  [Defense Evasion, Discovery]  \n",
       "3      2019-06-04 10:22:14.623875+00:00  [Defense Evasion, Discovery]  \n",
       "4      2019-06-04 10:37:19.725874+00:00  [Defense Evasion, Discovery]  \n",
       "...                                 ...                           ...  \n",
       "233030 2020-02-29 23:47:28.217237+00:00      [Discovery, Persistence]  \n",
       "233031 2020-02-29 23:49:01.009046+00:00      [Discovery, Persistence]  \n",
       "233032 2020-02-29 23:56:18.827281+00:00      [Discovery, Persistence]  \n",
       "233033 2020-02-29 23:56:56.263104+00:00      [Discovery, Persistence]  \n",
       "233034 2020-02-29 23:59:22.199490+00:00      [Discovery, Persistence]  \n",
       "\n",
       "[233035 rows x 4 columns]"
      ]
     },
     "execution_count": 14,
     "metadata": {},
     "output_type": "execute_result"
    }
   ],
   "source": [
    "df_decoded_splitted"
   ]
  },
  {
   "cell_type": "code",
   "execution_count": null,
   "id": "360de55a-0158-4653-85c8-c2fbf454c5c0",
   "metadata": {},
   "outputs": [],
   "source": []
  }
 ],
 "metadata": {
  "kernelspec": {
   "display_name": "Python 3 (ipykernel)",
   "language": "python",
   "name": "python3"
  },
  "language_info": {
   "codemirror_mode": {
    "name": "ipython",
    "version": 3
   },
   "file_extension": ".py",
   "mimetype": "text/x-python",
   "name": "python",
   "nbconvert_exporter": "python",
   "pygments_lexer": "ipython3",
   "version": "3.12.3"
  }
 },
 "nbformat": 4,
 "nbformat_minor": 5
}
